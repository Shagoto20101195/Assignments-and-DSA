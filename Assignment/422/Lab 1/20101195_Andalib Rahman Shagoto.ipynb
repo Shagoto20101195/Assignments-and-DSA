{
  "nbformat": 4,
  "nbformat_minor": 0,
  "metadata": {
    "colab": {
      "provenance": []
    },
    "kernelspec": {
      "name": "python3",
      "display_name": "Python 3"
    },
    "language_info": {
      "name": "python"
    }
  },
  "cells": [
    {
      "cell_type": "code",
      "execution_count": null,
      "metadata": {
        "colab": {
          "base_uri": "https://localhost:8080/"
        },
        "id": "ZmltwG1Rp4zT",
        "outputId": "59754234-d53a-44e0-fe33-d4a3fba0d583"
      },
      "outputs": [
        {
          "output_type": "stream",
          "name": "stdout",
          "text": [
            "Start node: Arad\n",
            "End node: Bucharest\n",
            "Path: Arad -> Sibiu -> RimnicuVilcea -> Pitesti -> Bucharest \n",
            "Total distance: 418 km\n"
          ]
        }
      ],
      "source": [
        "import heapq\n",
        "inp = open(\"Input file.txt\", \"r\")\n",
        "\n",
        "visited_nodes = {} # Not to traverse visited node again (True means visited)\n",
        "heuristic_values = {}\n",
        "location = {} # e.g. {'A' : 'Arad'}\n",
        "connections = {} # e.g. {'A': {'Z': 75, 'T': 118, 'S': 140}}\n",
        "ans = 1000000 # Taking to be infinite\n",
        "path_ans = \"\"\n",
        "pq = [] # Priority Queue\n",
        "heapq.heapify(pq)\n",
        "\n",
        "while True:\n",
        "    try:\n",
        "        temp = inp.readline().replace(\"\\n\", \"\").split(\" \")\n",
        "        \n",
        "        location[temp[0][0]] = temp[0]\n",
        "        visited_nodes[temp[0][0]] = False\n",
        "        heuristic_values[temp[0][0]] = int(temp[1])\n",
        "        connections[temp[0][0]] = {}\n",
        "        \n",
        "        for i in range(2, len(temp), 2):\n",
        "            connections[temp[0][0]][temp[i][0]] = int(temp[i+1])\n",
        "            visited_nodes[temp[i][0]] = False\n",
        "    except:\n",
        "        break\n",
        "\n",
        "start = input(\"Start node: \")\n",
        "end = input(\"End node: \")\n",
        "\n",
        "for i in connections[start[0]]:\n",
        "    cost = connections[start[0]][i] + heuristic_values[i]\n",
        "    path = start[0] + i\n",
        "    heapq.heappush(pq, (cost, path))\n",
        "\n",
        "visited_nodes[start[0]] = True\n",
        "while(len(pq) > 0):\n",
        "    cost, path = heapq.heappop(pq)\n",
        "    \n",
        "    if(visited_nodes[path[len(path)-1]]): # To avoid infinite loop\n",
        "        continue\n",
        "\n",
        "    visited_nodes[path[len(path)-1]] = True\n",
        "    for i in connections[path[len(path)-1]]:\n",
        "        new_path = path + i\n",
        "        new_cost = cost - heuristic_values[path[len(path)-1]] + heuristic_values[i] + connections[path[len(path)-1]][i]\n",
        "        heapq.heappush(pq, (new_cost, new_path))\n",
        "        \n",
        "        if(new_path[len(new_path)-1] == end[0] and new_cost < ans):\n",
        "            ans = new_cost\n",
        "            path_ans = new_path\n",
        "\n",
        "if(start[0] in connections and end[0] in connections[start[0]]):\n",
        "  print(f\"Path: {start} -> {end}\\nTotal distance: {connections[start[0]][end[0]]}\")\n",
        "elif(path_ans == \"\"):\n",
        "    print(\"NO PATH FOUND\")\n",
        "else:\n",
        "    print(\"Path:\", end = \" \")\n",
        "    for i in path_ans:\n",
        "        print(location[i], end = \" \")\n",
        "        \n",
        "        if(i != end[0]):\n",
        "            print(\"->\", end = \" \")\n",
        "    print(f\"\\nTotal distance: {ans} km\")"
      ]
    }
  ]
}